{
  "nbformat": 4,
  "nbformat_minor": 0,
  "metadata": {
    "colab": {
      "provenance": [],
      "collapsed_sections": [
        "mGa5hNNg-cXB",
        "-QbatWzA-oEK"
      ],
      "authorship_tag": "ABX9TyPpyrRZvkMETh+A/Dxsj5yg",
      "include_colab_link": true
    },
    "kernelspec": {
      "name": "python3",
      "display_name": "Python 3"
    },
    "language_info": {
      "name": "python"
    },
    "gpuClass": "standard"
  },
  "cells": [
    {
      "cell_type": "markdown",
      "metadata": {
        "id": "view-in-github",
        "colab_type": "text"
      },
      "source": [
        "<a href=\"https://colab.research.google.com/github/dcastf01/aena_scraping_licitaciones/blob/main/Insights.ipynb\" target=\"_parent\"><img src=\"https://colab.research.google.com/assets/colab-badge.svg\" alt=\"Open In Colab\"/></a>"
      ]
    },
    {
      "cell_type": "code",
      "source": [
        "!git clone https://github.com/dcastf01/aena_scrapping_licitaciones.git"
      ],
      "metadata": {
        "id": "V2L8pxigvJUr",
        "outputId": "73122261-4fb1-4398-a5b5-36bb44357409",
        "colab": {
          "base_uri": "https://localhost:8080/"
        }
      },
      "execution_count": 1,
      "outputs": [
        {
          "output_type": "stream",
          "name": "stdout",
          "text": [
            "Cloning into 'aena_scrapping_licitaciones'...\n",
            "remote: Enumerating objects: 135, done.\u001b[K\n",
            "remote: Counting objects: 100% (135/135), done.\u001b[K\n",
            "remote: Compressing objects: 100% (106/106), done.\u001b[K\n",
            "remote: Total 135 (delta 72), reused 50 (delta 25), pack-reused 0\u001b[K\n",
            "Receiving objects: 100% (135/135), 7.69 MiB | 7.05 MiB/s, done.\n",
            "Resolving deltas: 100% (72/72), done.\n"
          ]
        }
      ]
    },
    {
      "cell_type": "code",
      "source": [
        "%cd aena_scrapping_licitaciones"
      ],
      "metadata": {
        "colab": {
          "base_uri": "https://localhost:8080/"
        },
        "id": "33cCu4Z7vLI6",
        "outputId": "882b3072-e806-44cb-9851-c7728d6417bb"
      },
      "execution_count": 2,
      "outputs": [
        {
          "output_type": "stream",
          "name": "stdout",
          "text": [
            "/content/aena_scrapping_licitaciones\n"
          ]
        }
      ]
    },
    {
      "cell_type": "code",
      "source": [
        "#@title Imports\n",
        "import pandas as pd\n",
        "import numpy as np\n",
        "import os\n",
        "import matplotlib.pyplot as plt\n",
        "import seaborn as sns\n",
        "import plotly.express as px\n"
      ],
      "metadata": {
        "id": "t9PsxnON5pxa"
      },
      "execution_count": 3,
      "outputs": []
    },
    {
      "cell_type": "code",
      "source": [
        "#@title setup\n",
        "filename = \"clean_data_without_outliers.parquet\" #@param [\"clean_data_with_outliers.parquet\", \"clean_data_without_outliers.parquet\"]\n",
        "year_min_to_visualize = 2014 #@param {type:\"integer\"}\n",
        "year_max_to_visualize = 2022 #@param {type:\"integer\"}\n",
        "\n",
        "assert year_max_to_visualize>=year_min_to_visualize, 'please xlim_max must be greater than xlim_min'\n",
        "folder_with_data='data'\n",
        "\n",
        "input_file=os.path.join(folder_with_data,filename)\n",
        "df=pd.read_parquet(input_file)\n",
        "\n",
        "df=df[(\n",
        "    df['Fecha de Contrato'].dt.year>=year_min_to_visualize) \n",
        "    & (df['Fecha de Contrato'].dt.year<=year_max_to_visualize)]\n",
        "print('shape',df.shape)\n",
        "print('initial colums \\n',df.columns)\n",
        "print('dtypes \\n',df.dtypes)"
      ],
      "metadata": {
        "colab": {
          "base_uri": "https://localhost:8080/"
        },
        "id": "Vp-hKg1H4yA_",
        "outputId": "2ed04e39-7ebb-42ae-f862-c4b786feb03a"
      },
      "execution_count": 4,
      "outputs": [
        {
          "output_type": "stream",
          "name": "stdout",
          "text": [
            "shape (4898, 16)\n",
            "initial colums \n",
            " Index(['Fecha de Contrato', 'No Expediente', 'Destino', 'Titulo:',\n",
            "       'Fecha de inicio', 'Fecha fin actual', 'Importe bruto licitacion:',\n",
            "       'Importe bruto adjudicacion:', 'Forma adjudicacion:',\n",
            "       'Numero de licitadores:', 'NIF', 'Razon social:', 'Fecha aprobacion',\n",
            "       'duration_days', 'Importe bruto adjudicacion per day',\n",
            "       '% bruto respect licitacion'],\n",
            "      dtype='object')\n",
            "dtypes \n",
            " Fecha de Contrato                     datetime64[ns]\n",
            "No Expediente                                 object\n",
            "Destino                                       object\n",
            "Titulo:                                       object\n",
            "Fecha de inicio                       datetime64[ns]\n",
            "Fecha fin actual                      datetime64[ns]\n",
            "Importe bruto licitacion:                    float64\n",
            "Importe bruto adjudicacion:                  float64\n",
            "Forma adjudicacion:                           object\n",
            "Numero de licitadores:                       float64\n",
            "NIF                                           object\n",
            "Razon social:                                 object\n",
            "Fecha aprobacion                             float64\n",
            "duration_days                                float64\n",
            "Importe bruto adjudicacion per day           float64\n",
            "% bruto respect licitacion                   float64\n",
            "dtype: object\n"
          ]
        }
      ]
    },
    {
      "cell_type": "markdown",
      "source": [
        "##Insights"
      ],
      "metadata": {
        "id": "UJX4Afj-K8zq"
      }
    },
    {
      "cell_type": "markdown",
      "source": [
        "### Creating report to have insights"
      ],
      "metadata": {
        "id": "379TjD10KzKf"
      }
    },
    {
      "cell_type": "markdown",
      "source": [
        "###Main insights from this report\n",
        "    * We have a Nº Expediente with several repetitions\n",
        "    * We have a few values in the fields with \"Importe\" that break all the numeric análisis\n",
        "    * Elecnor is the company with more \"Licitaciones\"\n",
        "    * Exist contracts with 0\n",
        "    * Contracts where the % bruto respect licitacion has the highest value or lowest value"
      ],
      "metadata": {
        "id": "Ha5C2MkbBKUR"
      }
    },
    {
      "cell_type": "markdown",
      "source": [
        "##main insights from:\n",
        "https://www.hacienda.gob.es/RSC/OIReScon/informe-anual-supervision-2020/ias-2020.pdf#page=30&zoom=100,101,132\n",
        "\n",
        "* Cantidad de licitaciones por año\n",
        "* Duración de licitaciones por año\n",
        "* Importe bruto por día por año\n",
        "* % bruto respecto al inicial\n",
        "* Importe por año\n",
        "Esas son las principales, luego cambiar la palabra año por aeropuerto / numero de licitaciones / la forma de adjudicación\n",
        "* Numero de solicitudes de empresa por año\n",
        "* Número de licitaciones por aeropuerto\n",
        "* Importe por aeropuerto/departamento\n",
        "\n",
        "* Company with more contracts\n",
        "\n",
        "\n"
      ],
      "metadata": {
        "id": "ZdRW2mAhLls2"
      }
    },
    {
      "cell_type": "markdown",
      "source": [
        "Licitaciones por año"
      ],
      "metadata": {
        "id": "Xj0jdkTB6US1"
      }
    },
    {
      "cell_type": "code",
      "source": [
        "import plotly.express as px\n",
        "from pandas.api.types import is_datetime64_any_dtype as is_datetime\n",
        "color_discrete_sequence= px.colors.sequential.Greens\n",
        "def generate_grouper(df,column_to_group):\n",
        "    grouper_column=[]\n",
        "    for column in column_to_group:\n",
        "        if  column is None or column not in df.columns:\n",
        "            pass\n",
        "        elif is_datetime(df[column]):\n",
        "            grouper_column.append(df[column].dt.year)\n",
        "        else:\n",
        "            grouper_column.append(df[column])\n",
        "    return grouper_column\n",
        "\n",
        "def plot_bar_column(df,axis_y,axis_x=None,\n",
        "                        color=None,variable_to_sort='column_axis_y',\n",
        "                    function_to_group='sum',\n",
        "                        is_ascending_sort_by_color=False,text_auto='.2s',**kwargs):\n",
        "    if axis_x==color:\n",
        "        grouper_column=generate_grouper(df,[axis_x])\n",
        "    else:\n",
        "        grouper_column=generate_grouper(df,[axis_x,color])\n",
        "    # print(grouper_column)\n",
        "    if function_to_group=='sum':\n",
        "        df_to_plot=df.groupby(by=[*grouper_column])[axis_y].sum().reset_index()\n",
        "    elif function_to_group=='count':\n",
        "        df_to_plot=df.groupby(by=[*grouper_column])[axis_x].count().rename('count',axis=1).reset_index()\n",
        "        axis_y='count'\n",
        "    if isinstance( df_to_plot,pd.core.series.Series):\n",
        "        df_to_plot=df_to_plot.to_frame()\n",
        "    #solucionar lo de la parte del sort mientras se hace plot ya que no se me ordena como quiero, quizá se hace en el plot\n",
        "    if variable_to_sort=='column_axis_y':\n",
        "        column_to_sort=axis_y\n",
        "    elif variable_to_sort=='choosing_dimension_to_colorbar':\n",
        "        column_to_sort=color\n",
        "  \n",
        "    if color:\n",
        "        df_to_plot.sort_values(axis_y,inplace=True,ascending=is_ascending_sort_by_color)\n",
        "    print(df_to_plot.head())\n",
        "    # return df_to_plot\n",
        "    fig= px.bar(df_to_plot,x=axis_x,y=axis_y,color=color,text_auto='.2s',color_continuous_scale=color_discrete_sequence)\n",
        "    return fig"
      ],
      "metadata": {
        "id": "Q8ZsUy7551Nv"
      },
      "execution_count": 142,
      "outputs": []
    },
    {
      "cell_type": "code",
      "source": [
        "#@title variables to print\n",
        "# kind_of_plot = \"bar_count\" #@param [\"bar_count\",\"bar_sum\"]\n",
        "axis_x= \"Numero de licitadores:\" #@param [\"Fecha de Contrato\", \"Destino\",\"Forma adjudicacion:\",\"Numero de licitadores:\"]\n",
        "axis_y= \"Count\" #@param ['duration_days','Importe bruto licitacion:','Count']\n",
        "choosing_dimension_to_colorbar = \"Numero de licitadores:\" #@param [\"None\", \"Destino\", \"Numero de licitadores:\",\"Forma adjudicacion\"]\n",
        "sort_by_column_to_sum_or_by_dimension_to_colorbar=\"choosing_dimension_to_colorbar\" #@param ['column_axis_y','choosing_dimension_to_colorbar']\n",
        "is_ascending_sort_by_color = True #@param {type:\"boolean\"}\n",
        "\n",
        "\n",
        "if choosing_dimension_to_colorbar=='None':\n",
        "    choosing_dimension_to_colorbar=None\n",
        "\n",
        "if axis_y =='Count':\n",
        "    function_to_group='count'\n",
        "else:\n",
        "    function_to_group='sum'\n",
        "    \n",
        "\n",
        "\n",
        "plot_bar_column(df,\n",
        "     axis_y,\n",
        "     axis_x=axis_x,\n",
        "     color=choosing_dimension_to_colorbar,\n",
        "     is_ascending_sort_by_color=is_ascending_sort_by_color,\n",
        "     function_to_group=function_to_group\n",
        "                    ).show()\n"
      ],
      "metadata": {
        "colab": {
          "base_uri": "https://localhost:8080/",
          "height": 652
        },
        "id": "M01cgnXIRjup",
        "outputId": "5685a639-7257-4649-d92b-c7c84a980937"
      },
      "execution_count": 143,
      "outputs": [
        {
          "output_type": "stream",
          "name": "stdout",
          "text": [
            "   Numero de licitadores:  count\n",
            "7                     8.0    103\n",
            "6                     7.0    104\n",
            "5                     6.0    192\n",
            "4                     5.0    275\n",
            "3                     4.0    561\n"
          ]
        },
        {
          "output_type": "display_data",
          "data": {
            "text/html": [
              "<html>\n",
              "<head><meta charset=\"utf-8\" /></head>\n",
              "<body>\n",
              "    <div>            <script src=\"https://cdnjs.cloudflare.com/ajax/libs/mathjax/2.7.5/MathJax.js?config=TeX-AMS-MML_SVG\"></script><script type=\"text/javascript\">if (window.MathJax) {MathJax.Hub.Config({SVG: {font: \"STIX-Web\"}});}</script>                <script type=\"text/javascript\">window.PlotlyConfig = {MathJaxConfig: 'local'};</script>\n",
              "        <script src=\"https://cdn.plot.ly/plotly-2.8.3.min.js\"></script>                <div id=\"e636d154-6f87-4728-aec7-d4378d0c8810\" class=\"plotly-graph-div\" style=\"height:525px; width:100%;\"></div>            <script type=\"text/javascript\">                                    window.PLOTLYENV=window.PLOTLYENV || {};                                    if (document.getElementById(\"e636d154-6f87-4728-aec7-d4378d0c8810\")) {                    Plotly.newPlot(                        \"e636d154-6f87-4728-aec7-d4378d0c8810\",                        [{\"alignmentgroup\":\"True\",\"hovertemplate\":\"Numero de licitadores:=%{marker.color}<br>count=%{y}<extra></extra>\",\"legendgroup\":\"\",\"marker\":{\"color\":[8.0,7.0,6.0,5.0,4.0,3.0,2.0,1.0],\"coloraxis\":\"coloraxis\",\"pattern\":{\"shape\":\"\"}},\"name\":\"\",\"offsetgroup\":\"\",\"orientation\":\"v\",\"showlegend\":false,\"textposition\":\"auto\",\"texttemplate\":\"%{y:.2s}\",\"x\":[8.0,7.0,6.0,5.0,4.0,3.0,2.0,1.0],\"xaxis\":\"x\",\"y\":[103,104,192,275,561,878,1251,1534],\"yaxis\":\"y\",\"type\":\"bar\"}],                        {\"template\":{\"data\":{\"bar\":[{\"error_x\":{\"color\":\"#2a3f5f\"},\"error_y\":{\"color\":\"#2a3f5f\"},\"marker\":{\"line\":{\"color\":\"#E5ECF6\",\"width\":0.5},\"pattern\":{\"fillmode\":\"overlay\",\"size\":10,\"solidity\":0.2}},\"type\":\"bar\"}],\"barpolar\":[{\"marker\":{\"line\":{\"color\":\"#E5ECF6\",\"width\":0.5},\"pattern\":{\"fillmode\":\"overlay\",\"size\":10,\"solidity\":0.2}},\"type\":\"barpolar\"}],\"carpet\":[{\"aaxis\":{\"endlinecolor\":\"#2a3f5f\",\"gridcolor\":\"white\",\"linecolor\":\"white\",\"minorgridcolor\":\"white\",\"startlinecolor\":\"#2a3f5f\"},\"baxis\":{\"endlinecolor\":\"#2a3f5f\",\"gridcolor\":\"white\",\"linecolor\":\"white\",\"minorgridcolor\":\"white\",\"startlinecolor\":\"#2a3f5f\"},\"type\":\"carpet\"}],\"choropleth\":[{\"colorbar\":{\"outlinewidth\":0,\"ticks\":\"\"},\"type\":\"choropleth\"}],\"contour\":[{\"colorbar\":{\"outlinewidth\":0,\"ticks\":\"\"},\"colorscale\":[[0.0,\"#0d0887\"],[0.1111111111111111,\"#46039f\"],[0.2222222222222222,\"#7201a8\"],[0.3333333333333333,\"#9c179e\"],[0.4444444444444444,\"#bd3786\"],[0.5555555555555556,\"#d8576b\"],[0.6666666666666666,\"#ed7953\"],[0.7777777777777778,\"#fb9f3a\"],[0.8888888888888888,\"#fdca26\"],[1.0,\"#f0f921\"]],\"type\":\"contour\"}],\"contourcarpet\":[{\"colorbar\":{\"outlinewidth\":0,\"ticks\":\"\"},\"type\":\"contourcarpet\"}],\"heatmap\":[{\"colorbar\":{\"outlinewidth\":0,\"ticks\":\"\"},\"colorscale\":[[0.0,\"#0d0887\"],[0.1111111111111111,\"#46039f\"],[0.2222222222222222,\"#7201a8\"],[0.3333333333333333,\"#9c179e\"],[0.4444444444444444,\"#bd3786\"],[0.5555555555555556,\"#d8576b\"],[0.6666666666666666,\"#ed7953\"],[0.7777777777777778,\"#fb9f3a\"],[0.8888888888888888,\"#fdca26\"],[1.0,\"#f0f921\"]],\"type\":\"heatmap\"}],\"heatmapgl\":[{\"colorbar\":{\"outlinewidth\":0,\"ticks\":\"\"},\"colorscale\":[[0.0,\"#0d0887\"],[0.1111111111111111,\"#46039f\"],[0.2222222222222222,\"#7201a8\"],[0.3333333333333333,\"#9c179e\"],[0.4444444444444444,\"#bd3786\"],[0.5555555555555556,\"#d8576b\"],[0.6666666666666666,\"#ed7953\"],[0.7777777777777778,\"#fb9f3a\"],[0.8888888888888888,\"#fdca26\"],[1.0,\"#f0f921\"]],\"type\":\"heatmapgl\"}],\"histogram\":[{\"marker\":{\"pattern\":{\"fillmode\":\"overlay\",\"size\":10,\"solidity\":0.2}},\"type\":\"histogram\"}],\"histogram2d\":[{\"colorbar\":{\"outlinewidth\":0,\"ticks\":\"\"},\"colorscale\":[[0.0,\"#0d0887\"],[0.1111111111111111,\"#46039f\"],[0.2222222222222222,\"#7201a8\"],[0.3333333333333333,\"#9c179e\"],[0.4444444444444444,\"#bd3786\"],[0.5555555555555556,\"#d8576b\"],[0.6666666666666666,\"#ed7953\"],[0.7777777777777778,\"#fb9f3a\"],[0.8888888888888888,\"#fdca26\"],[1.0,\"#f0f921\"]],\"type\":\"histogram2d\"}],\"histogram2dcontour\":[{\"colorbar\":{\"outlinewidth\":0,\"ticks\":\"\"},\"colorscale\":[[0.0,\"#0d0887\"],[0.1111111111111111,\"#46039f\"],[0.2222222222222222,\"#7201a8\"],[0.3333333333333333,\"#9c179e\"],[0.4444444444444444,\"#bd3786\"],[0.5555555555555556,\"#d8576b\"],[0.6666666666666666,\"#ed7953\"],[0.7777777777777778,\"#fb9f3a\"],[0.8888888888888888,\"#fdca26\"],[1.0,\"#f0f921\"]],\"type\":\"histogram2dcontour\"}],\"mesh3d\":[{\"colorbar\":{\"outlinewidth\":0,\"ticks\":\"\"},\"type\":\"mesh3d\"}],\"parcoords\":[{\"line\":{\"colorbar\":{\"outlinewidth\":0,\"ticks\":\"\"}},\"type\":\"parcoords\"}],\"pie\":[{\"automargin\":true,\"type\":\"pie\"}],\"scatter\":[{\"marker\":{\"colorbar\":{\"outlinewidth\":0,\"ticks\":\"\"}},\"type\":\"scatter\"}],\"scatter3d\":[{\"line\":{\"colorbar\":{\"outlinewidth\":0,\"ticks\":\"\"}},\"marker\":{\"colorbar\":{\"outlinewidth\":0,\"ticks\":\"\"}},\"type\":\"scatter3d\"}],\"scattercarpet\":[{\"marker\":{\"colorbar\":{\"outlinewidth\":0,\"ticks\":\"\"}},\"type\":\"scattercarpet\"}],\"scattergeo\":[{\"marker\":{\"colorbar\":{\"outlinewidth\":0,\"ticks\":\"\"}},\"type\":\"scattergeo\"}],\"scattergl\":[{\"marker\":{\"colorbar\":{\"outlinewidth\":0,\"ticks\":\"\"}},\"type\":\"scattergl\"}],\"scattermapbox\":[{\"marker\":{\"colorbar\":{\"outlinewidth\":0,\"ticks\":\"\"}},\"type\":\"scattermapbox\"}],\"scatterpolar\":[{\"marker\":{\"colorbar\":{\"outlinewidth\":0,\"ticks\":\"\"}},\"type\":\"scatterpolar\"}],\"scatterpolargl\":[{\"marker\":{\"colorbar\":{\"outlinewidth\":0,\"ticks\":\"\"}},\"type\":\"scatterpolargl\"}],\"scatterternary\":[{\"marker\":{\"colorbar\":{\"outlinewidth\":0,\"ticks\":\"\"}},\"type\":\"scatterternary\"}],\"surface\":[{\"colorbar\":{\"outlinewidth\":0,\"ticks\":\"\"},\"colorscale\":[[0.0,\"#0d0887\"],[0.1111111111111111,\"#46039f\"],[0.2222222222222222,\"#7201a8\"],[0.3333333333333333,\"#9c179e\"],[0.4444444444444444,\"#bd3786\"],[0.5555555555555556,\"#d8576b\"],[0.6666666666666666,\"#ed7953\"],[0.7777777777777778,\"#fb9f3a\"],[0.8888888888888888,\"#fdca26\"],[1.0,\"#f0f921\"]],\"type\":\"surface\"}],\"table\":[{\"cells\":{\"fill\":{\"color\":\"#EBF0F8\"},\"line\":{\"color\":\"white\"}},\"header\":{\"fill\":{\"color\":\"#C8D4E3\"},\"line\":{\"color\":\"white\"}},\"type\":\"table\"}]},\"layout\":{\"annotationdefaults\":{\"arrowcolor\":\"#2a3f5f\",\"arrowhead\":0,\"arrowwidth\":1},\"autotypenumbers\":\"strict\",\"coloraxis\":{\"colorbar\":{\"outlinewidth\":0,\"ticks\":\"\"}},\"colorscale\":{\"diverging\":[[0,\"#8e0152\"],[0.1,\"#c51b7d\"],[0.2,\"#de77ae\"],[0.3,\"#f1b6da\"],[0.4,\"#fde0ef\"],[0.5,\"#f7f7f7\"],[0.6,\"#e6f5d0\"],[0.7,\"#b8e186\"],[0.8,\"#7fbc41\"],[0.9,\"#4d9221\"],[1,\"#276419\"]],\"sequential\":[[0.0,\"#0d0887\"],[0.1111111111111111,\"#46039f\"],[0.2222222222222222,\"#7201a8\"],[0.3333333333333333,\"#9c179e\"],[0.4444444444444444,\"#bd3786\"],[0.5555555555555556,\"#d8576b\"],[0.6666666666666666,\"#ed7953\"],[0.7777777777777778,\"#fb9f3a\"],[0.8888888888888888,\"#fdca26\"],[1.0,\"#f0f921\"]],\"sequentialminus\":[[0.0,\"#0d0887\"],[0.1111111111111111,\"#46039f\"],[0.2222222222222222,\"#7201a8\"],[0.3333333333333333,\"#9c179e\"],[0.4444444444444444,\"#bd3786\"],[0.5555555555555556,\"#d8576b\"],[0.6666666666666666,\"#ed7953\"],[0.7777777777777778,\"#fb9f3a\"],[0.8888888888888888,\"#fdca26\"],[1.0,\"#f0f921\"]]},\"colorway\":[\"#636efa\",\"#EF553B\",\"#00cc96\",\"#ab63fa\",\"#FFA15A\",\"#19d3f3\",\"#FF6692\",\"#B6E880\",\"#FF97FF\",\"#FECB52\"],\"font\":{\"color\":\"#2a3f5f\"},\"geo\":{\"bgcolor\":\"white\",\"lakecolor\":\"white\",\"landcolor\":\"#E5ECF6\",\"showlakes\":true,\"showland\":true,\"subunitcolor\":\"white\"},\"hoverlabel\":{\"align\":\"left\"},\"hovermode\":\"closest\",\"mapbox\":{\"style\":\"light\"},\"paper_bgcolor\":\"white\",\"plot_bgcolor\":\"#E5ECF6\",\"polar\":{\"angularaxis\":{\"gridcolor\":\"white\",\"linecolor\":\"white\",\"ticks\":\"\"},\"bgcolor\":\"#E5ECF6\",\"radialaxis\":{\"gridcolor\":\"white\",\"linecolor\":\"white\",\"ticks\":\"\"}},\"scene\":{\"xaxis\":{\"backgroundcolor\":\"#E5ECF6\",\"gridcolor\":\"white\",\"gridwidth\":2,\"linecolor\":\"white\",\"showbackground\":true,\"ticks\":\"\",\"zerolinecolor\":\"white\"},\"yaxis\":{\"backgroundcolor\":\"#E5ECF6\",\"gridcolor\":\"white\",\"gridwidth\":2,\"linecolor\":\"white\",\"showbackground\":true,\"ticks\":\"\",\"zerolinecolor\":\"white\"},\"zaxis\":{\"backgroundcolor\":\"#E5ECF6\",\"gridcolor\":\"white\",\"gridwidth\":2,\"linecolor\":\"white\",\"showbackground\":true,\"ticks\":\"\",\"zerolinecolor\":\"white\"}},\"shapedefaults\":{\"line\":{\"color\":\"#2a3f5f\"}},\"ternary\":{\"aaxis\":{\"gridcolor\":\"white\",\"linecolor\":\"white\",\"ticks\":\"\"},\"baxis\":{\"gridcolor\":\"white\",\"linecolor\":\"white\",\"ticks\":\"\"},\"bgcolor\":\"#E5ECF6\",\"caxis\":{\"gridcolor\":\"white\",\"linecolor\":\"white\",\"ticks\":\"\"}},\"title\":{\"x\":0.05},\"xaxis\":{\"automargin\":true,\"gridcolor\":\"white\",\"linecolor\":\"white\",\"ticks\":\"\",\"title\":{\"standoff\":15},\"zerolinecolor\":\"white\",\"zerolinewidth\":2},\"yaxis\":{\"automargin\":true,\"gridcolor\":\"white\",\"linecolor\":\"white\",\"ticks\":\"\",\"title\":{\"standoff\":15},\"zerolinecolor\":\"white\",\"zerolinewidth\":2}}},\"xaxis\":{\"anchor\":\"y\",\"domain\":[0.0,1.0],\"title\":{\"text\":\"Numero de licitadores:\"}},\"yaxis\":{\"anchor\":\"x\",\"domain\":[0.0,1.0],\"title\":{\"text\":\"count\"}},\"coloraxis\":{\"colorbar\":{\"title\":{\"text\":\"Numero de licitadores:\"}},\"colorscale\":[[0.0,\"rgb(247,252,245)\"],[0.125,\"rgb(229,245,224)\"],[0.25,\"rgb(199,233,192)\"],[0.375,\"rgb(161,217,155)\"],[0.5,\"rgb(116,196,118)\"],[0.625,\"rgb(65,171,93)\"],[0.75,\"rgb(35,139,69)\"],[0.875,\"rgb(0,109,44)\"],[1.0,\"rgb(0,68,27)\"]]},\"legend\":{\"tracegroupgap\":0},\"margin\":{\"t\":60},\"barmode\":\"relative\"},                        {\"responsive\": true}                    ).then(function(){\n",
              "                            \n",
              "var gd = document.getElementById('e636d154-6f87-4728-aec7-d4378d0c8810');\n",
              "var x = new MutationObserver(function (mutations, observer) {{\n",
              "        var display = window.getComputedStyle(gd).display;\n",
              "        if (!display || display === 'none') {{\n",
              "            console.log([gd, 'removed!']);\n",
              "            Plotly.purge(gd);\n",
              "            observer.disconnect();\n",
              "        }}\n",
              "}});\n",
              "\n",
              "// Listen for the removal of the full notebook cells\n",
              "var notebookContainer = gd.closest('#notebook-container');\n",
              "if (notebookContainer) {{\n",
              "    x.observe(notebookContainer, {childList: true});\n",
              "}}\n",
              "\n",
              "// Listen for the clearing of the current output cell\n",
              "var outputEl = gd.closest('.output');\n",
              "if (outputEl) {{\n",
              "    x.observe(outputEl, {childList: true});\n",
              "}}\n",
              "\n",
              "                        })                };                            </script>        </div>\n",
              "</body>\n",
              "</html>"
            ]
          },
          "metadata": {}
        }
      ]
    },
    {
      "cell_type": "code",
      "source": [
        "df.head()"
      ],
      "metadata": {
        "id": "WKYnJnHM4d7X",
        "outputId": "fc944656-ffad-4e42-fecf-4e86feaea46c",
        "colab": {
          "base_uri": "https://localhost:8080/",
          "height": 582
        }
      },
      "execution_count": 131,
      "outputs": [
        {
          "output_type": "execute_result",
          "data": {
            "text/plain": [
              "   Fecha de Contrato No Expediente                    Destino  \\\n",
              "2         2022-07-21   IBZ-32/2022                 APTO.IBIZA   \n",
              "25        2022-07-08   PMI-33/2022     APTO.PALMA DE MALLORCA   \n",
              "27        2022-07-08   PMI-10/2022     APTO.PALMA DE MALLORCA   \n",
              "31        2022-07-07   MAD-85/2022  APTO.A.SUAREZ MAD-BARAJAS   \n",
              "79        2022-06-23   MAD-45/2022  APTO.A.SUAREZ MAD-BARAJAS   \n",
              "\n",
              "                                              Titulo: Fecha de inicio  \\\n",
              "2   MTTO. PREVENT. CORREC. ASIST. TELEF.CONSULTAS ...      2022-08-21   \n",
              "25  NUEVA BASCULA DE PESAJE PARA LA PLANTA DE TRAN...      2022-07-14   \n",
              "27  SERVICIO DE REVISIÓN, ACTUALIZACIÓN Y MANTENIM...      2022-07-25   \n",
              "31  ALQUILER DE EQUIPOS DE DESINFECCIÓN DE BANDEJA...      2022-07-20   \n",
              "79  SUMINISTRO E INSTALACIÓN DE EQUIPAMIENTO HARDW...      2022-07-11   \n",
              "\n",
              "   Fecha fin actual  Importe bruto licitacion:  Importe bruto adjudicacion:  \\\n",
              "2        2023-08-21                   12402.50                     12402.50   \n",
              "25       2022-12-14                  192798.86                    191834.86   \n",
              "27       2023-07-25                  133100.00                     81130.50   \n",
              "31       2023-07-26                   87120.00                     87120.00   \n",
              "79       2023-04-11                  220540.65                    161958.50   \n",
              "\n",
              "                       Forma adjudicacion:  Numero de licitadores:  \\\n",
              "2       PROCEDIMIENTO ABIERTO SIMPLIFICADO                     1.0   \n",
              "25  PROCEDIMIENTO ABIERTO VARIOS CRITERIOS                     1.0   \n",
              "27  PROCEDIMIENTO ABIERTO VARIOS CRITERIOS                     4.0   \n",
              "31  PROCEDIMIENTO ABIERTO VARIOS CRITERIOS                     1.0   \n",
              "79  PROCEDIMIENTO ABIERTO VARIOS CRITERIOS                     2.0   \n",
              "\n",
              "           NIF              Razon social:  Fecha aprobacion  duration_days  \\\n",
              "2   A058090713               IBERSELEX SA               0.0          365.0   \n",
              "25  A007296536            AMER E HIJOS SA               0.0          153.0   \n",
              "27  B065322869   ALDEBARAN 2 0 IT PROJ SL               0.0          365.0   \n",
              "31  B030860332            TECNIMUSA, S.L.               0.0          371.0   \n",
              "79  A079486833  ELECNOR SERV PROYECTOS SA               0.0          274.0   \n",
              "\n",
              "    Importe bruto adjudicacion per day  % bruto respect licitacion  \n",
              "2                            33.979452                    1.000000  \n",
              "25                         1253.822614                    0.995000  \n",
              "27                          222.275342                    0.609545  \n",
              "31                          234.824798                    1.000000  \n",
              "79                          591.089416                    0.734370  "
            ],
            "text/html": [
              "\n",
              "  <div id=\"df-d506f5c3-4620-4b55-bbc5-11dee22f4193\">\n",
              "    <div class=\"colab-df-container\">\n",
              "      <div>\n",
              "<style scoped>\n",
              "    .dataframe tbody tr th:only-of-type {\n",
              "        vertical-align: middle;\n",
              "    }\n",
              "\n",
              "    .dataframe tbody tr th {\n",
              "        vertical-align: top;\n",
              "    }\n",
              "\n",
              "    .dataframe thead th {\n",
              "        text-align: right;\n",
              "    }\n",
              "</style>\n",
              "<table border=\"1\" class=\"dataframe\">\n",
              "  <thead>\n",
              "    <tr style=\"text-align: right;\">\n",
              "      <th></th>\n",
              "      <th>Fecha de Contrato</th>\n",
              "      <th>No Expediente</th>\n",
              "      <th>Destino</th>\n",
              "      <th>Titulo:</th>\n",
              "      <th>Fecha de inicio</th>\n",
              "      <th>Fecha fin actual</th>\n",
              "      <th>Importe bruto licitacion:</th>\n",
              "      <th>Importe bruto adjudicacion:</th>\n",
              "      <th>Forma adjudicacion:</th>\n",
              "      <th>Numero de licitadores:</th>\n",
              "      <th>NIF</th>\n",
              "      <th>Razon social:</th>\n",
              "      <th>Fecha aprobacion</th>\n",
              "      <th>duration_days</th>\n",
              "      <th>Importe bruto adjudicacion per day</th>\n",
              "      <th>% bruto respect licitacion</th>\n",
              "    </tr>\n",
              "  </thead>\n",
              "  <tbody>\n",
              "    <tr>\n",
              "      <th>2</th>\n",
              "      <td>2022-07-21</td>\n",
              "      <td>IBZ-32/2022</td>\n",
              "      <td>APTO.IBIZA</td>\n",
              "      <td>MTTO. PREVENT. CORREC. ASIST. TELEF.CONSULTAS ...</td>\n",
              "      <td>2022-08-21</td>\n",
              "      <td>2023-08-21</td>\n",
              "      <td>12402.50</td>\n",
              "      <td>12402.50</td>\n",
              "      <td>PROCEDIMIENTO ABIERTO SIMPLIFICADO</td>\n",
              "      <td>1.0</td>\n",
              "      <td>A058090713</td>\n",
              "      <td>IBERSELEX SA</td>\n",
              "      <td>0.0</td>\n",
              "      <td>365.0</td>\n",
              "      <td>33.979452</td>\n",
              "      <td>1.000000</td>\n",
              "    </tr>\n",
              "    <tr>\n",
              "      <th>25</th>\n",
              "      <td>2022-07-08</td>\n",
              "      <td>PMI-33/2022</td>\n",
              "      <td>APTO.PALMA DE MALLORCA</td>\n",
              "      <td>NUEVA BASCULA DE PESAJE PARA LA PLANTA DE TRAN...</td>\n",
              "      <td>2022-07-14</td>\n",
              "      <td>2022-12-14</td>\n",
              "      <td>192798.86</td>\n",
              "      <td>191834.86</td>\n",
              "      <td>PROCEDIMIENTO ABIERTO VARIOS CRITERIOS</td>\n",
              "      <td>1.0</td>\n",
              "      <td>A007296536</td>\n",
              "      <td>AMER E HIJOS SA</td>\n",
              "      <td>0.0</td>\n",
              "      <td>153.0</td>\n",
              "      <td>1253.822614</td>\n",
              "      <td>0.995000</td>\n",
              "    </tr>\n",
              "    <tr>\n",
              "      <th>27</th>\n",
              "      <td>2022-07-08</td>\n",
              "      <td>PMI-10/2022</td>\n",
              "      <td>APTO.PALMA DE MALLORCA</td>\n",
              "      <td>SERVICIO DE REVISIÓN, ACTUALIZACIÓN Y MANTENIM...</td>\n",
              "      <td>2022-07-25</td>\n",
              "      <td>2023-07-25</td>\n",
              "      <td>133100.00</td>\n",
              "      <td>81130.50</td>\n",
              "      <td>PROCEDIMIENTO ABIERTO VARIOS CRITERIOS</td>\n",
              "      <td>4.0</td>\n",
              "      <td>B065322869</td>\n",
              "      <td>ALDEBARAN 2 0 IT PROJ SL</td>\n",
              "      <td>0.0</td>\n",
              "      <td>365.0</td>\n",
              "      <td>222.275342</td>\n",
              "      <td>0.609545</td>\n",
              "    </tr>\n",
              "    <tr>\n",
              "      <th>31</th>\n",
              "      <td>2022-07-07</td>\n",
              "      <td>MAD-85/2022</td>\n",
              "      <td>APTO.A.SUAREZ MAD-BARAJAS</td>\n",
              "      <td>ALQUILER DE EQUIPOS DE DESINFECCIÓN DE BANDEJA...</td>\n",
              "      <td>2022-07-20</td>\n",
              "      <td>2023-07-26</td>\n",
              "      <td>87120.00</td>\n",
              "      <td>87120.00</td>\n",
              "      <td>PROCEDIMIENTO ABIERTO VARIOS CRITERIOS</td>\n",
              "      <td>1.0</td>\n",
              "      <td>B030860332</td>\n",
              "      <td>TECNIMUSA, S.L.</td>\n",
              "      <td>0.0</td>\n",
              "      <td>371.0</td>\n",
              "      <td>234.824798</td>\n",
              "      <td>1.000000</td>\n",
              "    </tr>\n",
              "    <tr>\n",
              "      <th>79</th>\n",
              "      <td>2022-06-23</td>\n",
              "      <td>MAD-45/2022</td>\n",
              "      <td>APTO.A.SUAREZ MAD-BARAJAS</td>\n",
              "      <td>SUMINISTRO E INSTALACIÓN DE EQUIPAMIENTO HARDW...</td>\n",
              "      <td>2022-07-11</td>\n",
              "      <td>2023-04-11</td>\n",
              "      <td>220540.65</td>\n",
              "      <td>161958.50</td>\n",
              "      <td>PROCEDIMIENTO ABIERTO VARIOS CRITERIOS</td>\n",
              "      <td>2.0</td>\n",
              "      <td>A079486833</td>\n",
              "      <td>ELECNOR SERV PROYECTOS SA</td>\n",
              "      <td>0.0</td>\n",
              "      <td>274.0</td>\n",
              "      <td>591.089416</td>\n",
              "      <td>0.734370</td>\n",
              "    </tr>\n",
              "  </tbody>\n",
              "</table>\n",
              "</div>\n",
              "      <button class=\"colab-df-convert\" onclick=\"convertToInteractive('df-d506f5c3-4620-4b55-bbc5-11dee22f4193')\"\n",
              "              title=\"Convert this dataframe to an interactive table.\"\n",
              "              style=\"display:none;\">\n",
              "        \n",
              "  <svg xmlns=\"http://www.w3.org/2000/svg\" height=\"24px\"viewBox=\"0 0 24 24\"\n",
              "       width=\"24px\">\n",
              "    <path d=\"M0 0h24v24H0V0z\" fill=\"none\"/>\n",
              "    <path d=\"M18.56 5.44l.94 2.06.94-2.06 2.06-.94-2.06-.94-.94-2.06-.94 2.06-2.06.94zm-11 1L8.5 8.5l.94-2.06 2.06-.94-2.06-.94L8.5 2.5l-.94 2.06-2.06.94zm10 10l.94 2.06.94-2.06 2.06-.94-2.06-.94-.94-2.06-.94 2.06-2.06.94z\"/><path d=\"M17.41 7.96l-1.37-1.37c-.4-.4-.92-.59-1.43-.59-.52 0-1.04.2-1.43.59L10.3 9.45l-7.72 7.72c-.78.78-.78 2.05 0 2.83L4 21.41c.39.39.9.59 1.41.59.51 0 1.02-.2 1.41-.59l7.78-7.78 2.81-2.81c.8-.78.8-2.07 0-2.86zM5.41 20L4 18.59l7.72-7.72 1.47 1.35L5.41 20z\"/>\n",
              "  </svg>\n",
              "      </button>\n",
              "      \n",
              "  <style>\n",
              "    .colab-df-container {\n",
              "      display:flex;\n",
              "      flex-wrap:wrap;\n",
              "      gap: 12px;\n",
              "    }\n",
              "\n",
              "    .colab-df-convert {\n",
              "      background-color: #E8F0FE;\n",
              "      border: none;\n",
              "      border-radius: 50%;\n",
              "      cursor: pointer;\n",
              "      display: none;\n",
              "      fill: #1967D2;\n",
              "      height: 32px;\n",
              "      padding: 0 0 0 0;\n",
              "      width: 32px;\n",
              "    }\n",
              "\n",
              "    .colab-df-convert:hover {\n",
              "      background-color: #E2EBFA;\n",
              "      box-shadow: 0px 1px 2px rgba(60, 64, 67, 0.3), 0px 1px 3px 1px rgba(60, 64, 67, 0.15);\n",
              "      fill: #174EA6;\n",
              "    }\n",
              "\n",
              "    [theme=dark] .colab-df-convert {\n",
              "      background-color: #3B4455;\n",
              "      fill: #D2E3FC;\n",
              "    }\n",
              "\n",
              "    [theme=dark] .colab-df-convert:hover {\n",
              "      background-color: #434B5C;\n",
              "      box-shadow: 0px 1px 3px 1px rgba(0, 0, 0, 0.15);\n",
              "      filter: drop-shadow(0px 1px 2px rgba(0, 0, 0, 0.3));\n",
              "      fill: #FFFFFF;\n",
              "    }\n",
              "  </style>\n",
              "\n",
              "      <script>\n",
              "        const buttonEl =\n",
              "          document.querySelector('#df-d506f5c3-4620-4b55-bbc5-11dee22f4193 button.colab-df-convert');\n",
              "        buttonEl.style.display =\n",
              "          google.colab.kernel.accessAllowed ? 'block' : 'none';\n",
              "\n",
              "        async function convertToInteractive(key) {\n",
              "          const element = document.querySelector('#df-d506f5c3-4620-4b55-bbc5-11dee22f4193');\n",
              "          const dataTable =\n",
              "            await google.colab.kernel.invokeFunction('convertToInteractive',\n",
              "                                                     [key], {});\n",
              "          if (!dataTable) return;\n",
              "\n",
              "          const docLinkHtml = 'Like what you see? Visit the ' +\n",
              "            '<a target=\"_blank\" href=https://colab.research.google.com/notebooks/data_table.ipynb>data table notebook</a>'\n",
              "            + ' to learn more about interactive tables.';\n",
              "          element.innerHTML = '';\n",
              "          dataTable['output_type'] = 'display_data';\n",
              "          await google.colab.output.renderOutput(dataTable, element);\n",
              "          const docLink = document.createElement('div');\n",
              "          docLink.innerHTML = docLinkHtml;\n",
              "          element.appendChild(docLink);\n",
              "        }\n",
              "      </script>\n",
              "    </div>\n",
              "  </div>\n",
              "  "
            ]
          },
          "metadata": {},
          "execution_count": 131
        }
      ]
    },
    {
      "cell_type": "markdown",
      "source": [],
      "metadata": {
        "id": "lWZ8U03TLn73"
      }
    },
    {
      "cell_type": "markdown",
      "source": [
        "### contracts with import 0"
      ],
      "metadata": {
        "id": "oBPiQfJ_MDxl"
      }
    },
    {
      "cell_type": "code",
      "source": [
        "df[df['Importe bruto adjudicación(€)']==0]"
      ],
      "metadata": {
        "id": "DIqwEVmzCmIR"
      },
      "execution_count": null,
      "outputs": []
    },
    {
      "cell_type": "markdown",
      "source": [
        "###Checking what happen with the \"N* Expediente\" most repeated"
      ],
      "metadata": {
        "id": "mGa5hNNg-cXB"
      }
    },
    {
      "cell_type": "code",
      "source": [
        "df[df['Nº Expediente']=='DTC-83/2015-1']"
      ],
      "metadata": {
        "id": "EbfOrE3w525x"
      },
      "execution_count": null,
      "outputs": []
    },
    {
      "cell_type": "markdown",
      "source": [
        "### We have a value anomalous in relacion \"importes\" \n"
      ],
      "metadata": {
        "id": "-QbatWzA-oEK"
      }
    },
    {
      "cell_type": "code",
      "source": [
        "df.sort_values('Importe neto adjudicación(€)',ascending=False) "
      ],
      "metadata": {
        "id": "UxQj23tj-z2Y"
      },
      "execution_count": null,
      "outputs": []
    },
    {
      "cell_type": "code",
      "source": [],
      "metadata": {
        "id": "h698fn2T-Snj"
      },
      "execution_count": null,
      "outputs": []
    },
    {
      "cell_type": "markdown",
      "source": [
        "Before to check the outliers for us is interest know what are the contract where % bruto respect licitación was highest or lowest. We only are interested in know the date where and to who"
      ],
      "metadata": {
        "id": "oOnx2bqGWBFE"
      }
    },
    {
      "cell_type": "code",
      "source": [
        "display('Highest',\n",
        "      df[['Fecha de Contrato','Destino','Razón social:','% bruto respect licitacion']\n",
        "         ].sort_values('% bruto respect licitacion',ascending=False).head(10)\n",
        "      )\n",
        "display('Lowest',\n",
        "      df[['Fecha de Contrato','Destino','Razón social:','% bruto respect licitacion']\n",
        "         ].sort_values('% bruto respect licitacion').head(10)\n",
        "      )"
      ],
      "metadata": {
        "id": "2ASDmosRWKPO"
      },
      "execution_count": null,
      "outputs": []
    },
    {
      "cell_type": "markdown",
      "source": [
        "###create report without outlier"
      ],
      "metadata": {
        "id": "16ITsvmtVnFP"
      }
    },
    {
      "cell_type": "code",
      "source": [
        "print('shape before remove outlier', df.shape)\n",
        "df_wihtout_outliers=df[df['Importe bruto adjudicación(€)']<=1e+06]\n",
        "print('shape after remove outlier', df_wihtout_outliers.shape)"
      ],
      "metadata": {
        "id": "n-0fhMeRWa54"
      },
      "execution_count": null,
      "outputs": []
    },
    {
      "cell_type": "code",
      "source": [],
      "metadata": {
        "id": "lHgWzVHZ-Roa"
      },
      "execution_count": null,
      "outputs": []
    },
    {
      "cell_type": "code",
      "source": [
        "report=create_report(df_wihtout_outliers.drop(['Importe bruto licitación:','duration_days'],axis=1))\n",
        "report.save('without_outliers.html')"
      ],
      "metadata": {
        "id": "1qZ78coKWYUJ"
      },
      "execution_count": null,
      "outputs": []
    },
    {
      "cell_type": "markdown",
      "source": [],
      "metadata": {
        "id": "rN0Uz3xvLjz3"
      }
    }
  ]
}